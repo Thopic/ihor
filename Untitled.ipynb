{
 "cells": [
  {
   "cell_type": "code",
   "execution_count": 1,
   "id": "84e0821a",
   "metadata": {},
   "outputs": [],
   "source": [
    "import pandas as pd\n",
    "import itertools\n",
    "def read_fasta(fn):\n",
    "    names, seqs, qualities = [], [], []\n",
    "    with open(fn) as f:\n",
    "        for lines in grouper(f, 2, ''):\n",
    "            names += [lines[0].strip()[1:]]\n",
    "            seqs += [lines[1].strip()]\n",
    "    df = pd.DataFrame()\n",
    "    df[\"name\"] = names\n",
    "    df[\"seq\"] = seqs\n",
    "    return df\n",
    "\n",
    "def grouper(iterable, n, fillvalue=None):\n",
    "    args = [iter(iterable)] * n\n",
    "    return itertools.zip_longest(*args, fillvalue=fillvalue)\n"
   ]
  },
  {
   "cell_type": "code",
   "execution_count": 2,
   "id": "00227da7",
   "metadata": {},
   "outputs": [],
   "source": [
    "import ihor\n",
    "\n",
    "model = ihor.ModelVDJ.load_model(\"tests/models/onegene/model_params.txt\",\n",
    "    \"tests/models/onegene/model_marginals.txt\",\n",
    "    \"tests/models/onegene/V_gene_CDR3_anchors.csv\",\n",
    "    \"tests/models/onegene/J_gene_CDR3_anchors.csv\")\n",
    "\n",
    "align_params = ihor.AlignmentParameters(min_score_v= 40, min_score_j= 10, max_error_d=20)\n",
    "\n",
    "df = read_fasta('tests/models/seq_onegene.txt')\n",
    "\n",
    "seq = []\n",
    "\n",
    "for l in df.seq:\n",
    "    seq += [ihor.SequenceVDJ.align_sequence(ihor.Dna.from_string(l.strip()), model, align_params)]\n",
    "\n",
    "\n",
    "#"
   ]
  },
  {
   "cell_type": "code",
   "execution_count": 18,
   "id": "45751caf",
   "metadata": {},
   "outputs": [
    {
     "data": {
      "text/plain": [
       "0       nodel_noins\n",
       "1      pal_ins_v, 2\n",
       "2     pal_ins_d5, 1\n",
       "3     pal_ins_d3, 1\n",
       "4      pal_ins_j, 2\n",
       "5          del_v, 4\n",
       "6         del_d5, 3\n",
       "7         del_d3, 1\n",
       "8          del_j, 5\n",
       "9       ins_vd, CCC\n",
       "10      ins_vd, CCT\n",
       "11      ins_dj, AAA\n",
       "Name: name, dtype: object"
      ]
     },
     "execution_count": 18,
     "metadata": {},
     "output_type": "execute_result"
    }
   ],
   "source": [
    "df.name"
   ]
  },
  {
   "cell_type": "code",
   "execution_count": 33,
   "id": "36e420b9",
   "metadata": {},
   "outputs": [
    {
     "data": {
      "text/plain": [
       "0"
      ]
     },
     "execution_count": 33,
     "metadata": {},
     "output_type": "execute_result"
    }
   ],
   "source": [
    "infer_params = ihor.InferenceParameters(min_likelihood=1e-20, min_likelihood_error=1e-10)\n",
    "res = ihor.most_likely_recombinations(5, seq[3],model, infer_params)\n",
    "res[1][1].deld3"
   ]
  },
  {
   "cell_type": "code",
   "execution_count": 23,
   "id": "612ceebc",
   "metadata": {},
   "outputs": [
    {
     "data": {
      "text/plain": [
       "[(4.744677799578172e-11, <EventVDJ at 0x7fa4b42f7710>),\n",
       " (2.372338899789086e-11, <EventVDJ at 0x7fa4b4349670>),\n",
       " (1.1861694498945433e-11, <EventVDJ at 0x7fa4b42b6990>),\n",
       " (1.186169449894543e-11, <EventVDJ at 0x7fa4b42b6b70>),\n",
       " (1.1861694498945426e-11, <EventVDJ at 0x7fa4b42b6df0>)]"
      ]
     },
     "execution_count": 23,
     "metadata": {},
     "output_type": "execute_result"
    }
   ],
   "source": [
    "res"
   ]
  },
  {
   "cell_type": "code",
   "execution_count": 8,
   "id": "715bc509",
   "metadata": {},
   "outputs": [],
   "source": [
    "def infer_model(sequences, model, min_likelihood=1e-20, nb_rounds=6, min_likelihood_error=1e-40):\n",
    "    \n",
    "    for _ in range(nb_rounds):\n",
    "        features = []\n",
    "        for s in seq:\n",
    "            features += [ihor.infer_features(s, model, infer_params)]\n",
    "        new_feat = ihor.FeaturesVDJ.average(features)\n",
    "        model.update(new_feat)\n",
    "    return model"
   ]
  },
  {
   "cell_type": "code",
   "execution_count": 9,
   "id": "e905eeb8",
   "metadata": {},
   "outputs": [
    {
     "data": {
      "text/plain": [
       "[<DAlignment at 0x7f822868bab0>,\n",
       " <DAlignment at 0x7f822868b750>,\n",
       " <DAlignment at 0x7f822868bc30>]"
      ]
     },
     "execution_count": 9,
     "metadata": {},
     "output_type": "execute_result"
    }
   ],
   "source": [
    "seq[0].d_genes"
   ]
  },
  {
   "cell_type": "code",
   "execution_count": 5,
   "id": "4ceacc3d",
   "metadata": {},
   "outputs": [
    {
     "data": {
      "text/plain": [
       "array([0.75, 0.25])"
      ]
     },
     "execution_count": 5,
     "metadata": {},
     "output_type": "execute_result"
    }
   ],
   "source": [
    "model.p_ins_vd"
   ]
  },
  {
   "cell_type": "code",
   "execution_count": 8,
   "id": "f0544359",
   "metadata": {},
   "outputs": [
    {
     "data": {
      "text/plain": [
       "'GGGACAGGGGGC'"
      ]
     },
     "execution_count": 8,
     "metadata": {},
     "output_type": "execute_result"
    }
   ],
   "source": [
    "model.seg_ds[0].seq.get_string()"
   ]
  },
  {
   "cell_type": "code",
   "execution_count": 19,
   "id": "82f54f8b",
   "metadata": {},
   "outputs": [
    {
     "data": {
      "text/plain": [
       "[0]"
      ]
     },
     "execution_count": 19,
     "metadata": {},
     "output_type": "execute_result"
    }
   ],
   "source": [
    "seq[0].v_genes[0].errors"
   ]
  },
  {
   "cell_type": "code",
   "execution_count": 14,
   "id": "a84bbec4",
   "metadata": {},
   "outputs": [
    {
     "data": {
      "text/plain": [
       "287"
      ]
     },
     "execution_count": 14,
     "metadata": {},
     "output_type": "execute_result"
    }
   ],
   "source": [
    "len('GACACAGCTGTTTCCCAGACTCCAAAATACCTGGTCACACAGATGGGAAACGACAAGTCCATTAAATGTGAACAAAATCTGGGCCATGATACTATGTATTGGTATAAACAGGACTCTAAGAAATTTCTGAAGATAATGTTTAGCTACAATAACAAGGAGATCATTATAAATGAAACAGTTCCAAATCGATTCTCACCTAAATCTCCAGACAAAGCTAAATTAAATCTTCACATCAATTCCCTGGAGCTTGGTGACTCTGCTGTGTATTTCTGTGCCAGCAGCCAAGA')"
   ]
  },
  {
   "cell_type": "code",
   "execution_count": null,
   "id": "c58d5fb7",
   "metadata": {},
   "outputs": [],
   "source": []
  }
 ],
 "metadata": {
  "kernelspec": {
   "display_name": "Python 3 (ipykernel)",
   "language": "python",
   "name": "python3"
  },
  "language_info": {
   "codemirror_mode": {
    "name": "ipython",
    "version": 3
   },
   "file_extension": ".py",
   "mimetype": "text/x-python",
   "name": "python",
   "nbconvert_exporter": "python",
   "pygments_lexer": "ipython3",
   "version": "3.8.5"
  }
 },
 "nbformat": 4,
 "nbformat_minor": 5
}
